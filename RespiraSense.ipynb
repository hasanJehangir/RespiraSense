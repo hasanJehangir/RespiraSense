{
 "cells": [
  {
   "cell_type": "markdown",
   "id": "f95bb1f6",
   "metadata": {},
   "source": [
    "### IMPORTING LIBRARIES"
   ]
  },
  {
   "cell_type": "code",
   "execution_count": 1,
   "id": "dca77508",
   "metadata": {},
   "outputs": [],
   "source": [
    "\n",
    "import numpy as np # linear algebra\n",
    "import pandas as pd # data processing, CSV file I/O (e.g. pd.read_csv)\n",
    "import tensorflow as tf\n",
    "from tensorflow import keras\n",
    "import matplotlib.pyplot as plt\n",
    "import seaborn as sns\n",
    "import librosa.display\n",
    "\n",
    "\n",
    "import os\n"
   ]
  },
  {
   "cell_type": "markdown",
   "id": "d76cf762",
   "metadata": {},
   "source": [
    "### Reading and Utilizing Provided Data\n"
   ]
  },
  {
   "cell_type": "code",
   "execution_count": 2,
   "id": "3df22d96",
   "metadata": {},
   "outputs": [],
   "source": [
    "patient_data=pd.read_csv(r'C:\\Users\\CVA\\Desktop\\RespiraSense\\input\\Respiratory_Sound_Database\\Respiratory_Sound_Database\\patient_diagnosis.csv',names=['pid','disease'])"
   ]
  },
  {
   "cell_type": "code",
   "execution_count": 3,
   "id": "433890e9",
   "metadata": {},
   "outputs": [
    {
     "data": {
      "text/html": [
       "<div>\n",
       "<style scoped>\n",
       "    .dataframe tbody tr th:only-of-type {\n",
       "        vertical-align: middle;\n",
       "    }\n",
       "\n",
       "    .dataframe tbody tr th {\n",
       "        vertical-align: top;\n",
       "    }\n",
       "\n",
       "    .dataframe thead th {\n",
       "        text-align: right;\n",
       "    }\n",
       "</style>\n",
       "<table border=\"1\" class=\"dataframe\">\n",
       "  <thead>\n",
       "    <tr style=\"text-align: right;\">\n",
       "      <th></th>\n",
       "      <th>pid</th>\n",
       "      <th>disease</th>\n",
       "    </tr>\n",
       "  </thead>\n",
       "  <tbody>\n",
       "    <tr>\n",
       "      <th>0</th>\n",
       "      <td>101</td>\n",
       "      <td>URTI</td>\n",
       "    </tr>\n",
       "    <tr>\n",
       "      <th>1</th>\n",
       "      <td>102</td>\n",
       "      <td>Healthy</td>\n",
       "    </tr>\n",
       "    <tr>\n",
       "      <th>2</th>\n",
       "      <td>103</td>\n",
       "      <td>Asthma</td>\n",
       "    </tr>\n",
       "    <tr>\n",
       "      <th>3</th>\n",
       "      <td>104</td>\n",
       "      <td>COPD</td>\n",
       "    </tr>\n",
       "    <tr>\n",
       "      <th>4</th>\n",
       "      <td>105</td>\n",
       "      <td>URTI</td>\n",
       "    </tr>\n",
       "  </tbody>\n",
       "</table>\n",
       "</div>"
      ],
      "text/plain": [
       "   pid  disease\n",
       "0  101     URTI\n",
       "1  102  Healthy\n",
       "2  103   Asthma\n",
       "3  104     COPD\n",
       "4  105     URTI"
      ]
     },
     "execution_count": 3,
     "metadata": {},
     "output_type": "execute_result"
    }
   ],
   "source": [
    "patient_data.head()"
   ]
  },
  {
   "cell_type": "markdown",
   "id": "31e33bd5",
   "metadata": {},
   "source": [
    ".Here we have **Patient Ids** and **Disease info**\n",
    "\n",
    "\n",
    "Lets check out what is in annoted '**.txt**' files of audio files"
   ]
  },
  {
   "cell_type": "code",
   "execution_count": 4,
   "id": "c2ba6f9d",
   "metadata": {
    "scrolled": true
   },
   "outputs": [
    {
     "data": {
      "text/html": [
       "<div>\n",
       "<style scoped>\n",
       "    .dataframe tbody tr th:only-of-type {\n",
       "        vertical-align: middle;\n",
       "    }\n",
       "\n",
       "    .dataframe tbody tr th {\n",
       "        vertical-align: top;\n",
       "    }\n",
       "\n",
       "    .dataframe thead th {\n",
       "        text-align: right;\n",
       "    }\n",
       "</style>\n",
       "<table border=\"1\" class=\"dataframe\">\n",
       "  <thead>\n",
       "    <tr style=\"text-align: right;\">\n",
       "      <th></th>\n",
       "      <th>1.862</th>\n",
       "      <th>5.718</th>\n",
       "      <th>0</th>\n",
       "      <th>1</th>\n",
       "    </tr>\n",
       "  </thead>\n",
       "  <tbody>\n",
       "    <tr>\n",
       "      <th>0</th>\n",
       "      <td>5.718</td>\n",
       "      <td>9.725</td>\n",
       "      <td>1</td>\n",
       "      <td>1</td>\n",
       "    </tr>\n",
       "    <tr>\n",
       "      <th>1</th>\n",
       "      <td>9.725</td>\n",
       "      <td>13.614</td>\n",
       "      <td>0</td>\n",
       "      <td>1</td>\n",
       "    </tr>\n",
       "    <tr>\n",
       "      <th>2</th>\n",
       "      <td>13.614</td>\n",
       "      <td>17.671</td>\n",
       "      <td>0</td>\n",
       "      <td>1</td>\n",
       "    </tr>\n",
       "    <tr>\n",
       "      <th>3</th>\n",
       "      <td>17.671</td>\n",
       "      <td>19.541</td>\n",
       "      <td>0</td>\n",
       "      <td>0</td>\n",
       "    </tr>\n",
       "  </tbody>\n",
       "</table>\n",
       "</div>"
      ],
      "text/plain": [
       "    1.862   5.718  0  1\n",
       "0   5.718   9.725  1  1\n",
       "1   9.725  13.614  0  1\n",
       "2  13.614  17.671  0  1\n",
       "3  17.671  19.541  0  0"
      ]
     },
     "execution_count": 4,
     "metadata": {},
     "output_type": "execute_result"
    }
   ],
   "source": [
    "df=pd.read_csv(r'C:\\Users\\CVA\\Desktop\\RespiraSense\\input\\Respiratory_Sound_Database\\Respiratory_Sound_Database\\audio_and_txt_files\\160_1b3_Al_mc_AKGC417L.txt',sep='\\t')\n",
    "df.head()"
   ]
  },
  {
   "cell_type": "markdown",
   "id": "93d0efdc",
   "metadata": {},
   "source": [
    "These are very usefull information namely (Start , End ( time of respiratory cycles) ,crackles,weezels)\n",
    "\n",
    "So lets get them into a dataset"
   ]
  },
  {
   "cell_type": "code",
   "execution_count": 5,
   "id": "0caeb33a",
   "metadata": {
    "scrolled": true
   },
   "outputs": [
    {
     "data": {
      "text/plain": [
       "['101_1b1_Al_sc_Meditron',\n",
       " '101_1b1_Pr_sc_Meditron',\n",
       " '102_1b1_Ar_sc_Meditron',\n",
       " '103_2b2_Ar_mc_LittC2SE',\n",
       " '104_1b1_Al_sc_Litt3200']"
      ]
     },
     "execution_count": 5,
     "metadata": {},
     "output_type": "execute_result"
    }
   ],
   "source": [
    "import os\n",
    "path=r'C:\\Users\\CVA\\Desktop\\RespiraSense\\input\\Respiratory_Sound_Database\\Respiratory_Sound_Database\\audio_and_txt_files'\n",
    "files=[s.split('.')[0] for s in os.listdir(path) if '.txt' in s]\n",
    "files[:5]"
   ]
  },
  {
   "cell_type": "markdown",
   "id": "49f4f6b0",
   "metadata": {},
   "source": [
    "As mentioned in **filename_format.txt** , '.txt' files of annotated audio files have various information. So we will try to extract that too."
   ]
  },
  {
   "cell_type": "markdown",
   "id": "1ccf8ed1",
   "metadata": {},
   "source": [
    "now we will read multiple text files, extract relevant information from their filenames, add this information as new columns to the data, and combine all the data into a single DataFrame."
   ]
  },
  {
   "cell_type": "code",
   "execution_count": 6,
   "id": "f22718ef",
   "metadata": {},
   "outputs": [],
   "source": [
    "def getFilenameInfo(file):\n",
    "    return file.split('_')"
   ]
  },
  {
   "cell_type": "code",
   "execution_count": 7,
   "id": "4eb1a8f2",
   "metadata": {},
   "outputs": [
    {
     "data": {
      "text/plain": [
       "['160', '1b3', 'Al', 'mc', 'AKGC417L']"
      ]
     },
     "execution_count": 7,
     "metadata": {},
     "output_type": "execute_result"
    }
   ],
   "source": [
    "getFilenameInfo('160_1b3_Al_mc_AKGC417L')"
   ]
  },
  {
   "cell_type": "code",
   "execution_count": 8,
   "id": "9666bce9",
   "metadata": {},
   "outputs": [
    {
     "data": {
      "text/html": [
       "<div>\n",
       "<style scoped>\n",
       "    .dataframe tbody tr th:only-of-type {\n",
       "        vertical-align: middle;\n",
       "    }\n",
       "\n",
       "    .dataframe tbody tr th {\n",
       "        vertical-align: top;\n",
       "    }\n",
       "\n",
       "    .dataframe thead th {\n",
       "        text-align: right;\n",
       "    }\n",
       "</style>\n",
       "<table border=\"1\" class=\"dataframe\">\n",
       "  <thead>\n",
       "    <tr style=\"text-align: right;\">\n",
       "      <th></th>\n",
       "      <th>start</th>\n",
       "      <th>end</th>\n",
       "      <th>crackles</th>\n",
       "      <th>wheezels</th>\n",
       "      <th>pid</th>\n",
       "      <th>mode</th>\n",
       "      <th>filename</th>\n",
       "    </tr>\n",
       "  </thead>\n",
       "  <tbody>\n",
       "    <tr>\n",
       "      <th>0</th>\n",
       "      <td>0.036</td>\n",
       "      <td>0.579</td>\n",
       "      <td>0</td>\n",
       "      <td>0</td>\n",
       "      <td>101</td>\n",
       "      <td>sc</td>\n",
       "      <td>101_1b1_Al_sc_Meditron</td>\n",
       "    </tr>\n",
       "    <tr>\n",
       "      <th>1</th>\n",
       "      <td>0.579</td>\n",
       "      <td>2.450</td>\n",
       "      <td>0</td>\n",
       "      <td>0</td>\n",
       "      <td>101</td>\n",
       "      <td>sc</td>\n",
       "      <td>101_1b1_Al_sc_Meditron</td>\n",
       "    </tr>\n",
       "    <tr>\n",
       "      <th>2</th>\n",
       "      <td>2.450</td>\n",
       "      <td>3.893</td>\n",
       "      <td>0</td>\n",
       "      <td>0</td>\n",
       "      <td>101</td>\n",
       "      <td>sc</td>\n",
       "      <td>101_1b1_Al_sc_Meditron</td>\n",
       "    </tr>\n",
       "    <tr>\n",
       "      <th>3</th>\n",
       "      <td>3.893</td>\n",
       "      <td>5.793</td>\n",
       "      <td>0</td>\n",
       "      <td>0</td>\n",
       "      <td>101</td>\n",
       "      <td>sc</td>\n",
       "      <td>101_1b1_Al_sc_Meditron</td>\n",
       "    </tr>\n",
       "    <tr>\n",
       "      <th>4</th>\n",
       "      <td>5.793</td>\n",
       "      <td>7.521</td>\n",
       "      <td>0</td>\n",
       "      <td>0</td>\n",
       "      <td>101</td>\n",
       "      <td>sc</td>\n",
       "      <td>101_1b1_Al_sc_Meditron</td>\n",
       "    </tr>\n",
       "  </tbody>\n",
       "</table>\n",
       "</div>"
      ],
      "text/plain": [
       "   start    end  crackles  wheezels  pid mode                filename\n",
       "0  0.036  0.579         0         0  101   sc  101_1b1_Al_sc_Meditron\n",
       "1  0.579  2.450         0         0  101   sc  101_1b1_Al_sc_Meditron\n",
       "2  2.450  3.893         0         0  101   sc  101_1b1_Al_sc_Meditron\n",
       "3  3.893  5.793         0         0  101   sc  101_1b1_Al_sc_Meditron\n",
       "4  5.793  7.521         0         0  101   sc  101_1b1_Al_sc_Meditron"
      ]
     },
     "execution_count": 8,
     "metadata": {},
     "output_type": "execute_result"
    }
   ],
   "source": [
    "files_data=[]\n",
    "for file in files:\n",
    "    data = pd.read_csv(path + '\\\\' + file + '.txt', sep='\\t', names=['start', 'end', 'crackles', 'wheezels'])\n",
    "    name_data = getFilenameInfo(file)\n",
    "    data['pid'] = name_data[0]\n",
    "    data['mode'] = name_data[-2]\n",
    "    data['filename'] = file\n",
    "    files_data.append(data)\n",
    "files_df = pd.concat(files_data)\n",
    "files_df.reset_index()\n",
    "files_df.head()\n"
   ]
  },
  {
   "cell_type": "code",
   "execution_count": 9,
   "id": "0439a791",
   "metadata": {},
   "outputs": [
    {
     "name": "stdout",
     "output_type": "stream",
     "text": [
      "<class 'pandas.core.frame.DataFrame'>\n",
      "RangeIndex: 126 entries, 0 to 125\n",
      "Data columns (total 2 columns):\n",
      " #   Column   Non-Null Count  Dtype \n",
      "---  ------   --------------  ----- \n",
      " 0   pid      126 non-null    int64 \n",
      " 1   disease  126 non-null    object\n",
      "dtypes: int64(1), object(1)\n",
      "memory usage: 2.1+ KB\n"
     ]
    }
   ],
   "source": [
    "patient_data.info()"
   ]
  },
  {
   "cell_type": "code",
   "execution_count": 10,
   "id": "344dbef9",
   "metadata": {},
   "outputs": [
    {
     "name": "stdout",
     "output_type": "stream",
     "text": [
      "<class 'pandas.core.frame.DataFrame'>\n",
      "Int64Index: 6898 entries, 0 to 10\n",
      "Data columns (total 7 columns):\n",
      " #   Column    Non-Null Count  Dtype  \n",
      "---  ------    --------------  -----  \n",
      " 0   start     6898 non-null   float64\n",
      " 1   end       6898 non-null   float64\n",
      " 2   crackles  6898 non-null   int64  \n",
      " 3   wheezels  6898 non-null   int64  \n",
      " 4   pid       6898 non-null   object \n",
      " 5   mode      6898 non-null   object \n",
      " 6   filename  6898 non-null   object \n",
      "dtypes: float64(2), int64(2), object(3)\n",
      "memory usage: 431.1+ KB\n"
     ]
    }
   ],
   "source": [
    "files_df.info()"
   ]
  },
  {
   "cell_type": "markdown",
   "id": "79ba93f7",
   "metadata": {},
   "source": [
    "now we will convert the **'pid'** columns in both **patient_data** and **files_df** DataFrames to integers and merge these DataFrames on the 'pid' column"
   ]
  },
  {
   "cell_type": "code",
   "execution_count": 11,
   "id": "948d367b",
   "metadata": {},
   "outputs": [],
   "source": [
    "patient_data.pid=patient_data.pid.astype('int32')\n",
    "files_df.pid=files_df.pid.astype('int32')"
   ]
  },
  {
   "cell_type": "code",
   "execution_count": 12,
   "id": "3ef292a3",
   "metadata": {},
   "outputs": [
    {
     "data": {
      "text/html": [
       "<div>\n",
       "<style scoped>\n",
       "    .dataframe tbody tr th:only-of-type {\n",
       "        vertical-align: middle;\n",
       "    }\n",
       "\n",
       "    .dataframe tbody tr th {\n",
       "        vertical-align: top;\n",
       "    }\n",
       "\n",
       "    .dataframe thead th {\n",
       "        text-align: right;\n",
       "    }\n",
       "</style>\n",
       "<table border=\"1\" class=\"dataframe\">\n",
       "  <thead>\n",
       "    <tr style=\"text-align: right;\">\n",
       "      <th></th>\n",
       "      <th>start</th>\n",
       "      <th>end</th>\n",
       "      <th>crackles</th>\n",
       "      <th>wheezels</th>\n",
       "      <th>pid</th>\n",
       "      <th>mode</th>\n",
       "      <th>filename</th>\n",
       "      <th>disease</th>\n",
       "    </tr>\n",
       "  </thead>\n",
       "  <tbody>\n",
       "    <tr>\n",
       "      <th>0</th>\n",
       "      <td>0.036</td>\n",
       "      <td>0.579</td>\n",
       "      <td>0</td>\n",
       "      <td>0</td>\n",
       "      <td>101</td>\n",
       "      <td>sc</td>\n",
       "      <td>101_1b1_Al_sc_Meditron</td>\n",
       "      <td>URTI</td>\n",
       "    </tr>\n",
       "    <tr>\n",
       "      <th>1</th>\n",
       "      <td>0.579</td>\n",
       "      <td>2.450</td>\n",
       "      <td>0</td>\n",
       "      <td>0</td>\n",
       "      <td>101</td>\n",
       "      <td>sc</td>\n",
       "      <td>101_1b1_Al_sc_Meditron</td>\n",
       "      <td>URTI</td>\n",
       "    </tr>\n",
       "    <tr>\n",
       "      <th>2</th>\n",
       "      <td>2.450</td>\n",
       "      <td>3.893</td>\n",
       "      <td>0</td>\n",
       "      <td>0</td>\n",
       "      <td>101</td>\n",
       "      <td>sc</td>\n",
       "      <td>101_1b1_Al_sc_Meditron</td>\n",
       "      <td>URTI</td>\n",
       "    </tr>\n",
       "    <tr>\n",
       "      <th>3</th>\n",
       "      <td>3.893</td>\n",
       "      <td>5.793</td>\n",
       "      <td>0</td>\n",
       "      <td>0</td>\n",
       "      <td>101</td>\n",
       "      <td>sc</td>\n",
       "      <td>101_1b1_Al_sc_Meditron</td>\n",
       "      <td>URTI</td>\n",
       "    </tr>\n",
       "    <tr>\n",
       "      <th>4</th>\n",
       "      <td>5.793</td>\n",
       "      <td>7.521</td>\n",
       "      <td>0</td>\n",
       "      <td>0</td>\n",
       "      <td>101</td>\n",
       "      <td>sc</td>\n",
       "      <td>101_1b1_Al_sc_Meditron</td>\n",
       "      <td>URTI</td>\n",
       "    </tr>\n",
       "  </tbody>\n",
       "</table>\n",
       "</div>"
      ],
      "text/plain": [
       "   start    end  crackles  wheezels  pid mode                filename disease\n",
       "0  0.036  0.579         0         0  101   sc  101_1b1_Al_sc_Meditron    URTI\n",
       "1  0.579  2.450         0         0  101   sc  101_1b1_Al_sc_Meditron    URTI\n",
       "2  2.450  3.893         0         0  101   sc  101_1b1_Al_sc_Meditron    URTI\n",
       "3  3.893  5.793         0         0  101   sc  101_1b1_Al_sc_Meditron    URTI\n",
       "4  5.793  7.521         0         0  101   sc  101_1b1_Al_sc_Meditron    URTI"
      ]
     },
     "execution_count": 12,
     "metadata": {},
     "output_type": "execute_result"
    }
   ],
   "source": [
    "data=pd.merge(files_df,patient_data,on='pid')\n",
    "data.head()"
   ]
  },
  {
   "cell_type": "markdown",
   "id": "8b3a9473",
   "metadata": {},
   "source": [
    "saving the file in csv file"
   ]
  },
  {
   "cell_type": "code",
   "execution_count": 13,
   "id": "c539193d",
   "metadata": {},
   "outputs": [],
   "source": [
    "os.makedirs('csv_data')\n",
    "data.to_csv('csv_data/data.csv',index=False)"
   ]
  },
  {
   "cell_type": "markdown",
   "id": "60196436",
   "metadata": {},
   "source": [
    "## Step 2\n",
    "## Processing Audio files"
   ]
  },
  {
   "cell_type": "markdown",
   "id": "1bcd0aa4",
   "metadata": {},
   "source": [
    "we will define a function **getPureSample** to extract a segment of an audio sample based on start and end times, and plot a scatter plot using seaborn to visualize the duration of each audio segment against the patient ID.\n",
    "\n",
    "\n",
    "we will plot a scatter plot with the duration of each audio segment (data.end - data.start) on the x-axis and the patient ID (data.pid) on the y-axis"
   ]
  },
  {
   "cell_type": "code",
   "execution_count": 14,
   "id": "aa43e853",
   "metadata": {},
   "outputs": [],
   "source": [
    "def getPureSample(raw_data,start,end,sr=22050):\n",
    "    '''\n",
    "    Takes a numpy array and spilts its using start and end args\n",
    "    \n",
    "    raw_data=numpy array of audio sample\n",
    "    start=time\n",
    "    end=time\n",
    "    sr=sampling_rate\n",
    "    mode=mono/stereo\n",
    "    \n",
    "    '''\n",
    "    max_ind = len(raw_data) \n",
    "    start_ind = min(int(start * sr), max_ind)\n",
    "    end_ind = min(int(end * sr), max_ind)\n",
    "    return raw_data[start_ind: end_ind]"
   ]
  },
  {
   "cell_type": "code",
   "execution_count": 15,
   "id": "0c85b6e6",
   "metadata": {},
   "outputs": [
    {
     "data": {
      "text/plain": [
       "<AxesSubplot:ylabel='pid'>"
      ]
     },
     "execution_count": 15,
     "metadata": {},
     "output_type": "execute_result"
    },
    {
     "data": {
      "image/png": "[encoded data removed]",
      "text/plain": [
       "<Figure size 640x480 with 1 Axes>"
      ]
     },
     "metadata": {},
     "output_type": "display_data"
    }
   ],
   "source": [
    "sns.scatterplot(x=(data.end-data.start), y=data.pid)"
   ]
  },
  {
   "cell_type": "markdown",
   "id": "33c07bc5",
   "metadata": {},
   "source": [
    "finding outliers through boxplot"
   ]
  },
  {
   "cell_type": "code",
   "execution_count": 16,
   "id": "54ff1a32",
   "metadata": {},
   "outputs": [
    {
     "data": {
      "text/plain": [
       "<AxesSubplot:>"
      ]
     },
     "execution_count": 16,
     "metadata": {},
     "output_type": "execute_result"
    },
    {
     "data": {
      "image/png": "[encoded data removed]",
      "text/plain": [
       "<Figure size 640x480 with 1 Axes>"
      ]
     },
     "metadata": {},
     "output_type": "display_data"
    }
   ],
   "source": [
    "sns.boxplot(y=(data.end-data.start))"
   ]
  },
  {
   "cell_type": "markdown",
   "id": "3e4431f6",
   "metadata": {},
   "source": [
    "From these plots we can conclude that best length is **~6**\n",
    "\n",
    "Also if difference is <6 we must Zero Pad it to get it to required length\n",
    "\n",
    "Zero Padding means silent"
   ]
  },
  {
   "cell_type": "markdown",
   "id": "63e66147",
   "metadata": {},
   "source": [
    "creating a directory named 'processed_audio_files' and print the index and content of the first row in the data DataFrame for verification."
   ]
  },
  {
   "cell_type": "code",
   "execution_count": 17,
   "id": "13dcc0ed",
   "metadata": {},
   "outputs": [],
   "source": [
    "os.makedirs('processed_audio_files')"
   ]
  },
  {
   "cell_type": "code",
   "execution_count": 18,
   "id": "7d1a09c5",
   "metadata": {},
   "outputs": [
    {
     "name": "stdout",
     "output_type": "stream",
     "text": [
      "Index -> 0\n",
      "Data->\n",
      " start                        0.036\n",
      "end                          0.579\n",
      "crackles                         0\n",
      "wheezels                         0\n",
      "pid                            101\n",
      "mode                            sc\n",
      "filename    101_1b1_Al_sc_Meditron\n",
      "disease                       URTI\n",
      "Name: 0, dtype: object\n"
     ]
    }
   ],
   "source": [
    "for index,row in data.iterrows():\n",
    "    print(\"Index ->\",index)\n",
    "    print(\"Data->\\n\",row)\n",
    "    break"
   ]
  },
  {
   "cell_type": "markdown",
   "id": "08ea486d",
   "metadata": {},
   "source": [
    " now we will iterate through each row in the data DataFrame, process audio files by trimming or padding them to a maximum length of **6sec**, and save the processed audio files to the **'processed_audio_files'** directory, updating the filenames if multiple cycles exist for the same patient"
   ]
  },
  {
   "cell_type": "code",
   "execution_count": 19,
   "id": "684860ae",
   "metadata": {},
   "outputs": [
    {
     "name": "stdout",
     "output_type": "stream",
     "text": [
      "Total Files Processed: 6898\n"
     ]
    }
   ],
   "source": [
    "import os\n",
    "import librosa as lb\n",
    "import soundfile as sf\n",
    "\n",
    "# Ensure the output directory exists\n",
    "if not os.path.exists('processed_audio_files'):\n",
    "    os.makedirs('processed_audio_files')\n",
    "\n",
    "i, c = 0, 0\n",
    "for index, row in data.iterrows():\n",
    "    maxLen = 6\n",
    "    start = row['start']\n",
    "    end = row['end']\n",
    "    filename = row['filename']\n",
    "    \n",
    "    # If len > maxLen, change it to maxLen\n",
    "    if end - start > maxLen:\n",
    "        end = start + maxLen\n",
    "    \n",
    "    audio_file_loc = os.path.join(path, filename + '.wav')\n",
    "    \n",
    "    if index > 0:\n",
    "        # Check if more cycles exist for the same patient, if so then add i to change filename\n",
    "        if data.iloc[index - 1]['filename'] == filename:\n",
    "            i += 1\n",
    "        else:\n",
    "            i = 0\n",
    "    filename = filename + '_' + str(i) + '.wav'\n",
    "    \n",
    "    save_path = os.path.join('processed_audio_files', filename)\n",
    "    c += 1\n",
    "    \n",
    "    try:\n",
    "        # Load audio file\n",
    "        audioArr, sampleRate = lb.load(audio_file_loc)\n",
    "        pureSample = getPureSample(audioArr, start, end, sampleRate)\n",
    "        \n",
    "        # Pad audio if pureSample len < max_len\n",
    "        reqLen = 6 * sampleRate\n",
    "        padded_data = lb.util.pad_center(pureSample, size=reqLen)\n",
    "        \n",
    "        # Ensure padded_data is in float32 format\n",
    "        padded_data = padded_data.astype('float32')\n",
    "        \n",
    "        # Write audio file\n",
    "        sf.write(file=save_path, data=padded_data, samplerate=sampleRate)\n",
    "    \n",
    "    except Exception as e:\n",
    "        print(f\"Error processing file {filename}: {e}\")\n",
    "\n",
    "print('Total Files Processed:', c)\n"
   ]
  },
  {
   "cell_type": "code",
   "execution_count": 20,
   "id": "f6d18793",
   "metadata": {},
   "outputs": [],
   "source": [
    "import librosa as lb"
   ]
  },
  {
   "cell_type": "code",
   "execution_count": 21,
   "id": "3f227da1",
   "metadata": {
    "scrolled": true
   },
   "outputs": [
    {
     "data": {
      "text/html": [
       "<div>\n",
       "<style scoped>\n",
       "    .dataframe tbody tr th:only-of-type {\n",
       "        vertical-align: middle;\n",
       "    }\n",
       "\n",
       "    .dataframe tbody tr th {\n",
       "        vertical-align: top;\n",
       "    }\n",
       "\n",
       "    .dataframe thead th {\n",
       "        text-align: right;\n",
       "    }\n",
       "</style>\n",
       "<table border=\"1\" class=\"dataframe\">\n",
       "  <thead>\n",
       "    <tr style=\"text-align: right;\">\n",
       "      <th></th>\n",
       "      <th>pid</th>\n",
       "      <th>disease</th>\n",
       "    </tr>\n",
       "  </thead>\n",
       "  <tbody>\n",
       "    <tr>\n",
       "      <th>0</th>\n",
       "      <td>101</td>\n",
       "      <td>URTI</td>\n",
       "    </tr>\n",
       "    <tr>\n",
       "      <th>1</th>\n",
       "      <td>102</td>\n",
       "      <td>Healthy</td>\n",
       "    </tr>\n",
       "    <tr>\n",
       "      <th>2</th>\n",
       "      <td>103</td>\n",
       "      <td>Asthma</td>\n",
       "    </tr>\n",
       "    <tr>\n",
       "      <th>3</th>\n",
       "      <td>104</td>\n",
       "      <td>COPD</td>\n",
       "    </tr>\n",
       "    <tr>\n",
       "      <th>4</th>\n",
       "      <td>105</td>\n",
       "      <td>URTI</td>\n",
       "    </tr>\n",
       "  </tbody>\n",
       "</table>\n",
       "</div>"
      ],
      "text/plain": [
       "   pid  disease\n",
       "0  101     URTI\n",
       "1  102  Healthy\n",
       "2  103   Asthma\n",
       "3  104     COPD\n",
       "4  105     URTI"
      ]
     },
     "execution_count": 21,
     "metadata": {},
     "output_type": "execute_result"
    }
   ],
   "source": [
    "diagnosis=pd.read_csv(r'C:\\Users\\CVA\\Desktop\\RespiraSense\\input\\Respiratory_Sound_Database\\Respiratory_Sound_Database\\patient_diagnosis.csv',names=['pid','disease'])\n",
    "diagnosis.head()\n"
   ]
  },
  {
   "cell_type": "markdown",
   "id": "8e1310ca",
   "metadata": {},
   "source": [
    "In the following plot we can see that classes are imbalanced so we must split them into train and validation set via stratify"
   ]
  },
  {
   "cell_type": "code",
   "execution_count": 22,
   "id": "2509d252",
   "metadata": {
    "scrolled": true
   },
   "outputs": [
    {
     "name": "stderr",
     "output_type": "stream",
     "text": [
      "E:\\Anaconda\\lib\\site-packages\\seaborn\\_decorators.py:36: FutureWarning: Pass the following variable as a keyword arg: x. From version 0.12, the only valid positional argument will be `data`, and passing other arguments without an explicit keyword will result in an error or misinterpretation.\n",
      "  warnings.warn(\n"
     ]
    },
    {
     "data": {
      "text/plain": [
       "(array([0, 1, 2, 3, 4, 5, 6, 7]),\n",
       " [Text(0, 0, 'URTI'),\n",
       "  Text(1, 0, 'Healthy'),\n",
       "  Text(2, 0, 'Asthma'),\n",
       "  Text(3, 0, 'COPD'),\n",
       "  Text(4, 0, 'LRTI'),\n",
       "  Text(5, 0, 'Bronchiectasis'),\n",
       "  Text(6, 0, 'Pneumonia'),\n",
       "  Text(7, 0, 'Bronchiolitis')])"
      ]
     },
     "execution_count": 22,
     "metadata": {},
     "output_type": "execute_result"
    },
    {
     "data": {
      "image/png": "[encoded data removed]",
      "text/plain": [
       "<Figure size 640x480 with 1 Axes>"
      ]
     },
     "metadata": {},
     "output_type": "display_data"
    }
   ],
   "source": [
    "sns.countplot(diagnosis.disease)\n",
    "plt.xticks(rotation=90)"
   ]
  },
  {
   "cell_type": "markdown",
   "id": "7fde2aff",
   "metadata": {},
   "source": [
    "We will try to extract Id of each processed audio file and then merge them with their respective class label so we can split files in to train and validation folder in stratified manner"
   ]
  },
  {
   "cell_type": "code",
   "execution_count": 23,
   "id": "2554aca8",
   "metadata": {},
   "outputs": [],
   "source": [
    "import os\n",
    "def extractId(filename):\n",
    "    return filename.split('_')[0]"
   ]
  },
  {
   "cell_type": "code",
   "execution_count": 24,
   "id": "4f5abb0f",
   "metadata": {},
   "outputs": [
    {
     "data": {
      "text/html": [
       "<div>\n",
       "<style scoped>\n",
       "    .dataframe tbody tr th:only-of-type {\n",
       "        vertical-align: middle;\n",
       "    }\n",
       "\n",
       "    .dataframe tbody tr th {\n",
       "        vertical-align: top;\n",
       "    }\n",
       "\n",
       "    .dataframe thead th {\n",
       "        text-align: right;\n",
       "    }\n",
       "</style>\n",
       "<table border=\"1\" class=\"dataframe\">\n",
       "  <thead>\n",
       "    <tr style=\"text-align: right;\">\n",
       "      <th></th>\n",
       "      <th>pid</th>\n",
       "      <th>filename</th>\n",
       "    </tr>\n",
       "  </thead>\n",
       "  <tbody>\n",
       "    <tr>\n",
       "      <th>0</th>\n",
       "      <td>101</td>\n",
       "      <td>101_1b1_Al_sc_Meditron_0.wav</td>\n",
       "    </tr>\n",
       "    <tr>\n",
       "      <th>1</th>\n",
       "      <td>101</td>\n",
       "      <td>101_1b1_Al_sc_Meditron_1.wav</td>\n",
       "    </tr>\n",
       "    <tr>\n",
       "      <th>2</th>\n",
       "      <td>101</td>\n",
       "      <td>101_1b1_Al_sc_Meditron_10.wav</td>\n",
       "    </tr>\n",
       "    <tr>\n",
       "      <th>3</th>\n",
       "      <td>101</td>\n",
       "      <td>101_1b1_Al_sc_Meditron_11.wav</td>\n",
       "    </tr>\n",
       "    <tr>\n",
       "      <th>4</th>\n",
       "      <td>101</td>\n",
       "      <td>101_1b1_Al_sc_Meditron_2.wav</td>\n",
       "    </tr>\n",
       "  </tbody>\n",
       "</table>\n",
       "</div>"
      ],
      "text/plain": [
       "   pid                       filename\n",
       "0  101   101_1b1_Al_sc_Meditron_0.wav\n",
       "1  101   101_1b1_Al_sc_Meditron_1.wav\n",
       "2  101  101_1b1_Al_sc_Meditron_10.wav\n",
       "3  101  101_1b1_Al_sc_Meditron_11.wav\n",
       "4  101   101_1b1_Al_sc_Meditron_2.wav"
      ]
     },
     "execution_count": 24,
     "metadata": {},
     "output_type": "execute_result"
    }
   ],
   "source": [
    "path=r'C:\\Users\\CVA\\Desktop\\RespiraSense\\processed_audio_files/'\n",
    "length=len(os.listdir(path))\n",
    "index=range(length)\n",
    "i=0\n",
    "files_df=pd.DataFrame(index=index,columns=['pid','filename'])\n",
    "for f in os.listdir(path):\n",
    "    files_df.iloc[i]['pid']=extractId(f)\n",
    "    files_df.iloc[i]['filename']=f\n",
    "    i+=1\n",
    "files_df.head()"
   ]
  },
  {
   "cell_type": "code",
   "execution_count": 25,
   "id": "95dcf732",
   "metadata": {},
   "outputs": [],
   "source": [
    "files_df.pid=files_df.pid.astype('int64') # both pid's must be of same dtype for them to merge"
   ]
  },
  {
   "cell_type": "code",
   "execution_count": 26,
   "id": "c15f5ffe",
   "metadata": {},
   "outputs": [
    {
     "data": {
      "text/html": [
       "<div>\n",
       "<style scoped>\n",
       "    .dataframe tbody tr th:only-of-type {\n",
       "        vertical-align: middle;\n",
       "    }\n",
       "\n",
       "    .dataframe tbody tr th {\n",
       "        vertical-align: top;\n",
       "    }\n",
       "\n",
       "    .dataframe thead th {\n",
       "        text-align: right;\n",
       "    }\n",
       "</style>\n",
       "<table border=\"1\" class=\"dataframe\">\n",
       "  <thead>\n",
       "    <tr style=\"text-align: right;\">\n",
       "      <th></th>\n",
       "      <th>pid</th>\n",
       "      <th>filename</th>\n",
       "      <th>disease</th>\n",
       "    </tr>\n",
       "  </thead>\n",
       "  <tbody>\n",
       "    <tr>\n",
       "      <th>0</th>\n",
       "      <td>101</td>\n",
       "      <td>101_1b1_Al_sc_Meditron_0.wav</td>\n",
       "      <td>URTI</td>\n",
       "    </tr>\n",
       "    <tr>\n",
       "      <th>1</th>\n",
       "      <td>101</td>\n",
       "      <td>101_1b1_Al_sc_Meditron_1.wav</td>\n",
       "      <td>URTI</td>\n",
       "    </tr>\n",
       "    <tr>\n",
       "      <th>2</th>\n",
       "      <td>101</td>\n",
       "      <td>101_1b1_Al_sc_Meditron_10.wav</td>\n",
       "      <td>URTI</td>\n",
       "    </tr>\n",
       "    <tr>\n",
       "      <th>3</th>\n",
       "      <td>101</td>\n",
       "      <td>101_1b1_Al_sc_Meditron_11.wav</td>\n",
       "      <td>URTI</td>\n",
       "    </tr>\n",
       "    <tr>\n",
       "      <th>4</th>\n",
       "      <td>101</td>\n",
       "      <td>101_1b1_Al_sc_Meditron_2.wav</td>\n",
       "      <td>URTI</td>\n",
       "    </tr>\n",
       "  </tbody>\n",
       "</table>\n",
       "</div>"
      ],
      "text/plain": [
       "   pid                       filename disease\n",
       "0  101   101_1b1_Al_sc_Meditron_0.wav    URTI\n",
       "1  101   101_1b1_Al_sc_Meditron_1.wav    URTI\n",
       "2  101  101_1b1_Al_sc_Meditron_10.wav    URTI\n",
       "3  101  101_1b1_Al_sc_Meditron_11.wav    URTI\n",
       "4  101   101_1b1_Al_sc_Meditron_2.wav    URTI"
      ]
     },
     "execution_count": 26,
     "metadata": {},
     "output_type": "execute_result"
    }
   ],
   "source": [
    "data=pd.merge(files_df,diagnosis,on='pid')\n",
    "data.head()"
   ]
  },
  {
   "cell_type": "code",
   "execution_count": 27,
   "id": "bd0915c0",
   "metadata": {},
   "outputs": [
    {
     "name": "stderr",
     "output_type": "stream",
     "text": [
      "E:\\Anaconda\\lib\\site-packages\\seaborn\\_decorators.py:36: FutureWarning: Pass the following variable as a keyword arg: x. From version 0.12, the only valid positional argument will be `data`, and passing other arguments without an explicit keyword will result in an error or misinterpretation.\n",
      "  warnings.warn(\n"
     ]
    },
    {
     "data": {
      "text/plain": [
       "(array([0, 1, 2, 3, 4, 5, 6, 7]),\n",
       " [Text(0, 0, 'URTI'),\n",
       "  Text(1, 0, 'Healthy'),\n",
       "  Text(2, 0, 'Asthma'),\n",
       "  Text(3, 0, 'COPD'),\n",
       "  Text(4, 0, 'LRTI'),\n",
       "  Text(5, 0, 'Bronchiectasis'),\n",
       "  Text(6, 0, 'Pneumonia'),\n",
       "  Text(7, 0, 'Bronchiolitis')])"
      ]
     },
     "execution_count": 27,
     "metadata": {},
     "output_type": "execute_result"
    },
    {
     "data": {
      "image/png": "[encoded data removed]",
      "text/plain": [
       "<Figure size 640x480 with 1 Axes>"
      ]
     },
     "metadata": {},
     "output_type": "display_data"
    }
   ],
   "source": [
    "sns.countplot(data.disease)\n",
    "plt.xticks(rotation=90)"
   ]
  },
  {
   "cell_type": "markdown",
   "id": "f0c6215b",
   "metadata": {},
   "source": [
    "splitting the data DataFrame into training and validation sets with stratification based on the 'disease' column to maintain the class distribution in both sets"
   ]
  },
  {
   "cell_type": "code",
   "execution_count": 28,
   "id": "d5738608",
   "metadata": {},
   "outputs": [],
   "source": [
    "from sklearn.model_selection import train_test_split\n",
    "Xtrain,Xval,ytrain,yval=train_test_split(data,data.disease,stratify=data.disease,random_state=42,test_size=0.25)"
   ]
  },
  {
   "cell_type": "code",
   "execution_count": 29,
   "id": "99f82a84",
   "metadata": {},
   "outputs": [
    {
     "data": {
      "text/plain": [
       "COPD              0.832979\n",
       "Healthy           0.046588\n",
       "Pneumonia         0.041369\n",
       "URTI              0.035183\n",
       "Bronchiolitis     0.023197\n",
       "Bronchiectasis    0.015078\n",
       "LRTI              0.004639\n",
       "Asthma            0.000967\n",
       "Name: disease, dtype: float64"
      ]
     },
     "execution_count": 29,
     "metadata": {},
     "output_type": "execute_result"
    }
   ],
   "source": [
    "Xtrain.disease.value_counts()/Xtrain.shape[0]"
   ]
  },
  {
   "cell_type": "code",
   "execution_count": 30,
   "id": "43bc0ced",
   "metadata": {
    "scrolled": true
   },
   "outputs": [
    {
     "data": {
      "text/plain": [
       "COPD              0.833043\n",
       "Healthy           0.046957\n",
       "Pneumonia         0.041159\n",
       "URTI              0.035362\n",
       "Bronchiolitis     0.023188\n",
       "Bronchiectasis    0.015072\n",
       "LRTI              0.004638\n",
       "Asthma            0.000580\n",
       "Name: disease, dtype: float64"
      ]
     },
     "execution_count": 30,
     "metadata": {},
     "output_type": "execute_result"
    }
   ],
   "source": [
    "Xval.disease.value_counts()/Xval.shape[0]"
   ]
  },
  {
   "cell_type": "markdown",
   "id": "5546b0a3",
   "metadata": {},
   "source": [
    "We did this because this will help our model to learn and validate classes , it will not be like we are training only on COPD disease and there is no COPD in our validation"
   ]
  },
  {
   "cell_type": "markdown",
   "id": "e2bb71ed",
   "metadata": {},
   "source": [
    "### Visualizing MFCCS(Mel-Frequency Cepstral Coefficients) for analyzing the audio's frequency content over time."
   ]
  },
  {
   "cell_type": "code",
   "execution_count": 31,
   "id": "7b93e0c0",
   "metadata": {},
   "outputs": [
    {
     "data": {
      "text/plain": [
       "[Text(0.5, 1.0, 'MFCC')]"
      ]
     },
     "execution_count": 31,
     "metadata": {},
     "output_type": "execute_result"
    },
    {
     "data": {
      "image/png": "[encoded data removed]",
      "text/plain": [
       "<Figure size 640x480 with 2 Axes>"
      ]
     },
     "metadata": {},
     "output_type": "display_data"
    }
   ],
   "source": [
    "\n",
    "\n",
    "import librosa.display\n",
    "file=path + Xtrain.iloc[193].filename \n",
    "sound,sample_rate=lb.load(file)\n",
    "mfccs = lb.feature.mfcc(y=sound, sr=sample_rate, n_mfcc=40)\n",
    "fig, ax = plt.subplots()\n",
    "img = librosa.display.specshow(mfccs, x_axis='time', ax=ax)\n",
    "fig.colorbar(img, ax=ax)\n",
    "ax.set(title='MFCC')"
   ]
  },
  {
   "cell_type": "markdown",
   "id": "9df7857f",
   "metadata": {},
   "source": [
    "Here I am going to output train & test datasets so that i can use the filenames in then in another notebook where i will try other feature extraction methods inclusive of MFCC's and adopt the one or many based on performance."
   ]
  },
  {
   "cell_type": "code",
   "execution_count": 32,
   "id": "0866cfcc",
   "metadata": {},
   "outputs": [],
   "source": [
    "Xtrain.to_csv('train.csv')\n",
    "Xval.to_csv('val.csv')"
   ]
  },
  {
   "cell_type": "code",
   "execution_count": 33,
   "id": "4def92f5",
   "metadata": {},
   "outputs": [],
   "source": [
    "import librosa.display as lbd"
   ]
  },
  {
   "cell_type": "code",
   "execution_count": 34,
   "id": "ac0e369c",
   "metadata": {},
   "outputs": [
    {
     "data": {
      "text/html": [
       "<div>\n",
       "<style scoped>\n",
       "    .dataframe tbody tr th:only-of-type {\n",
       "        vertical-align: middle;\n",
       "    }\n",
       "\n",
       "    .dataframe tbody tr th {\n",
       "        vertical-align: top;\n",
       "    }\n",
       "\n",
       "    .dataframe thead th {\n",
       "        text-align: right;\n",
       "    }\n",
       "</style>\n",
       "<table border=\"1\" class=\"dataframe\">\n",
       "  <thead>\n",
       "    <tr style=\"text-align: right;\">\n",
       "      <th></th>\n",
       "      <th>Unnamed: 0</th>\n",
       "      <th>pid</th>\n",
       "      <th>filename</th>\n",
       "      <th>disease</th>\n",
       "    </tr>\n",
       "  </thead>\n",
       "  <tbody>\n",
       "    <tr>\n",
       "      <th>0</th>\n",
       "      <td>1650</td>\n",
       "      <td>133</td>\n",
       "      <td>133_2p4_Pr_mc_AKGC417L_0.wav</td>\n",
       "      <td>COPD</td>\n",
       "    </tr>\n",
       "    <tr>\n",
       "      <th>1</th>\n",
       "      <td>2672</td>\n",
       "      <td>152</td>\n",
       "      <td>152_1b1_Al_sc_Meditron_6.wav</td>\n",
       "      <td>Healthy</td>\n",
       "    </tr>\n",
       "    <tr>\n",
       "      <th>2</th>\n",
       "      <td>548</td>\n",
       "      <td>112</td>\n",
       "      <td>112_1p1_Pr_sc_Litt3200_8.wav</td>\n",
       "      <td>COPD</td>\n",
       "    </tr>\n",
       "    <tr>\n",
       "      <th>3</th>\n",
       "      <td>4733</td>\n",
       "      <td>179</td>\n",
       "      <td>179_1b1_Al_sc_Meditron_6.wav</td>\n",
       "      <td>Healthy</td>\n",
       "    </tr>\n",
       "    <tr>\n",
       "      <th>4</th>\n",
       "      <td>1438</td>\n",
       "      <td>130</td>\n",
       "      <td>130_3p2_Ar_mc_AKGC417L_6.wav</td>\n",
       "      <td>COPD</td>\n",
       "    </tr>\n",
       "  </tbody>\n",
       "</table>\n",
       "</div>"
      ],
      "text/plain": [
       "   Unnamed: 0  pid                      filename  disease\n",
       "0        1650  133  133_2p4_Pr_mc_AKGC417L_0.wav     COPD\n",
       "1        2672  152  152_1b1_Al_sc_Meditron_6.wav  Healthy\n",
       "2         548  112  112_1p1_Pr_sc_Litt3200_8.wav     COPD\n",
       "3        4733  179  179_1b1_Al_sc_Meditron_6.wav  Healthy\n",
       "4        1438  130  130_3p2_Ar_mc_AKGC417L_6.wav     COPD"
      ]
     },
     "execution_count": 34,
     "metadata": {},
     "output_type": "execute_result"
    }
   ],
   "source": [
    "train=pd.read_csv(r'C:\\Users\\CVA\\Desktop\\RespiraSense\\train.csv')\n",
    "val=pd.read_csv(r'C:\\Users\\CVA\\Desktop\\RespiraSense\\val.csv')\n",
    "train.head()"
   ]
  },
  {
   "cell_type": "code",
   "execution_count": 35,
   "id": "ce09ace6",
   "metadata": {
    "scrolled": true
   },
   "outputs": [
    {
     "data": {
      "text/plain": [
       "0       COPD\n",
       "1       COPD\n",
       "2       COPD\n",
       "3       COPD\n",
       "4       COPD\n",
       "        ... \n",
       "1720    COPD\n",
       "1721    COPD\n",
       "1722    COPD\n",
       "1723    COPD\n",
       "1724    COPD\n",
       "Name: disease, Length: 1725, dtype: object"
      ]
     },
     "execution_count": 35,
     "metadata": {},
     "output_type": "execute_result"
    }
   ],
   "source": [
    "ytrain=train.disease\n",
    "yval=val.disease\n",
    "yval"
   ]
  },
  {
   "cell_type": "markdown",
   "id": "058dffdb",
   "metadata": {},
   "source": [
    "As our class labels are of **dtype:** object we must first convert them to encoded values or intergers"
   ]
  },
  {
   "cell_type": "code",
   "execution_count": 36,
   "id": "cfe77bce",
   "metadata": {},
   "outputs": [],
   "source": [
    "from sklearn.preprocessing import LabelEncoder\n",
    "le=LabelEncoder()\n",
    "ytrain=le.fit_transform(ytrain)\n",
    "yval=le.transform(yval)"
   ]
  },
  {
   "cell_type": "markdown",
   "id": "9f673df4",
   "metadata": {},
   "source": [
    "#### Feature Extraction\n",
    "\n",
    "I am going to use Librosa's feature extraction methods here\n"
   ]
  },
  {
   "cell_type": "code",
   "execution_count": 37,
   "id": "bc8839cf",
   "metadata": {},
   "outputs": [],
   "source": [
    "def getFeatures(path):\n",
    "    soundArr,sample_rate=lb.load(path)\n",
    "    mfcc=lb.feature.mfcc(y=soundArr,sr=sample_rate)\n",
    "    cstft=lb.feature.chroma_stft(y=soundArr,sr=sample_rate)\n",
    "    mSpec=lb.feature.melspectrogram(y=soundArr,sr=sample_rate)\n",
    "\n",
    "    return mfcc,cstft,mSpec"
   ]
  },
  {
   "cell_type": "markdown",
   "id": "9af477b4",
   "metadata": {},
   "source": [
    "In These functions i m iterating over **train** and **val** dataset, and using filenames to extract features and then converting them to numpy arrays"
   ]
  },
  {
   "cell_type": "code",
   "execution_count": 38,
   "id": "06f568e1",
   "metadata": {},
   "outputs": [
    {
     "name": "stderr",
     "output_type": "stream",
     "text": [
      "E:\\Anaconda\\lib\\site-packages\\librosa\\core\\pitch.py:101: UserWarning: Trying to estimate tuning from empty frequency set.\n",
      "  return pitch_tuning(\n"
     ]
    }
   ],
   "source": [
    "root=r'C:\\Users\\CVA\\Desktop\\RespiraSense\\processed_audio_files'\n",
    "mfcc,cstft,mSpec=[],[],[]\n",
    "\n",
    "for idx,row in val.iterrows():\n",
    "    path=root +'\\\\'+ row['filename']\n",
    "    a,b,c=getFeatures(path)\n",
    "    mfcc.append(a)\n",
    "    cstft.append(b)\n",
    "    mSpec.append(c)\n",
    "    \n",
    "mfcc_val=np.array(mfcc)\n",
    "cstft_val=np.array(cstft)\n",
    "mSpec_val=np.array(mSpec)"
   ]
  },
  {
   "cell_type": "code",
   "execution_count": 39,
   "id": "92701beb",
   "metadata": {
    "scrolled": true
   },
   "outputs": [
    {
     "name": "stdout",
     "output_type": "stream",
     "text": [
      "MFCC train shape: (5173, 20, 259)\n",
      "CSTFT train shape: (5173, 12, 259)\n",
      "MSpec train shape: (5173, 128, 259)\n",
      "MFCC val shape: (1725, 20, 259)\n",
      "CSTFT val shape: (1725, 12, 259)\n",
      "MSpec val shape: (1725, 128, 259)\n"
     ]
    }
   ],
   "source": [
    "import numpy as np\n",
    "import pandas as pd\n",
    "import librosa as lb\n",
    "import soundfile as sf\n",
    "\n",
    "def getFeatures(path):\n",
    "    # Load the audio file\n",
    "    y, sr = lb.load(path)\n",
    "    \n",
    "    # Extract features\n",
    "    mfcc = lb.feature.mfcc(y=y, sr=sr, n_mfcc=20)\n",
    "    cstft = lb.feature.chroma_stft(y=y, sr=sr)\n",
    "    mSpec = lb.feature.melspectrogram(y=y, sr=sr)\n",
    "    tone = lb.feature.tonnetz(y=y, sr=sr)  # This will be discarded\n",
    "    specCen = lb.feature.spectral_centroid(y=y, sr=sr)  # This will be discarded\n",
    "    \n",
    "    return mfcc, cstft, mSpec, tone, specCen\n",
    "\n",
    "# Path to the processed audio files\n",
    "root = r'C:\\Users\\CVA\\Desktop\\RespiraSense\\processed_audio_files'\n",
    "\n",
    "# Initialize lists for storing features\n",
    "mfcc_train, cstft_train, mSpec_train = [], [], []\n",
    "mfcc_val, cstft_val, mSpec_val = [], [], []\n",
    "\n",
    "# Assuming 'train' and 'val' are DataFrames with a column 'filename'\n",
    "# If 'train' and 'val' are not defined, you need to load your DataFrames here\n",
    "# train = pd.read_csv('path_to_train.csv')\n",
    "# val = pd.read_csv('path_to_val.csv')\n",
    "\n",
    "# Process the training data\n",
    "for idx, row in train.iterrows():\n",
    "    path = root +'\\\\'+ row['filename']\n",
    "    \n",
    "    # Extract only the necessary features\n",
    "    a, b, c, _, _ = getFeatures(path)\n",
    "    mfcc_train.append(a)\n",
    "    cstft_train.append(b)\n",
    "    mSpec_train.append(c)\n",
    "    \n",
    "# Convert lists to numpy arrays\n",
    "mfcc_train = np.array(mfcc_train)\n",
    "cstft_train = np.array(cstft_train)\n",
    "mSpec_train = np.array(mSpec_train)\n",
    "\n",
    "# Process the validation data\n",
    "for idx, row in val.iterrows():\n",
    "    path = root + '\\\\'+ row['filename']\n",
    "    \n",
    "    # Extract only the necessary features\n",
    "    a, b, c, _, _ = getFeatures(path)\n",
    "    mfcc_val.append(a)\n",
    "    cstft_val.append(b)\n",
    "    mSpec_val.append(c)\n",
    "    \n",
    "# Convert lists to numpy arrays\n",
    "mfcc_val = np.array(mfcc_val)\n",
    "cstft_val = np.array(cstft_val)\n",
    "mSpec_val = np.array(mSpec_val)\n",
    "\n",
    "# Print shapes to verify\n",
    "print('MFCC train shape:', mfcc_train.shape)\n",
    "print('CSTFT train shape:', cstft_train.shape)\n",
    "print('MSpec train shape:', mSpec_train.shape)\n",
    "\n",
    "print('MFCC val shape:', mfcc_val.shape)\n",
    "print('CSTFT val shape:', cstft_val.shape)\n",
    "print('MSpec val shape:', mSpec_val.shape)\n"
   ]
  },
  {
   "cell_type": "markdown",
   "id": "29353e99",
   "metadata": {},
   "source": [
    "The **shape** of features returned by the above function **(20, 259) (12, 259) (128, 259)** we need this for defining input shape of our model and **Discarded** few features beacuse they were not important to performance"
   ]
  },
  {
   "cell_type": "markdown",
   "id": "a45ac024",
   "metadata": {},
   "source": [
    "### Testing Features"
   ]
  },
  {
   "cell_type": "markdown",
   "id": "0224501e",
   "metadata": {},
   "source": [
    "Lets create model using Keras Functional API to check how the features perform."
   ]
  },
  {
   "cell_type": "code",
   "execution_count": 40,
   "id": "b0fcccad",
   "metadata": {},
   "outputs": [],
   "source": [
    "my_callbacks = [\n",
    "    tf.keras.callbacks.EarlyStopping(patience=5),\n",
    "    tf.keras.callbacks.ReduceLROnPlateau(monitor='val_loss', factor=0.1,\n",
    "                              patience=3, min_lr=0.00001,mode='min')\n",
    "]"
   ]
  },
  {
   "cell_type": "markdown",
   "id": "dd3627d4",
   "metadata": {},
   "source": [
    "Here i m creating three different **CNN** and then Combining them to a Dense Network."
   ]
  },
  {
   "cell_type": "code",
   "execution_count": 41,
   "id": "744a26d1",
   "metadata": {},
   "outputs": [],
   "source": [
    "mfcc_input=keras.layers.Input(shape=(20,259,1),name=\"mfccInput\")\n",
    "x=keras.layers.Conv2D(32,5,strides=(1,3),padding='same')(mfcc_input)\n",
    "x=keras.layers.BatchNormalization()(x)\n",
    "x=keras.layers.Activation(keras.activations.relu)(x)\n",
    "x=keras.layers.MaxPooling2D(pool_size=2,padding='valid')(x)\n",
    "\n",
    "x=keras.layers.Conv2D(64,3,strides=(1,2),padding='same')(x)\n",
    "x=keras.layers.BatchNormalization()(x)\n",
    "x=keras.layers.Activation(keras.activations.relu)(x)\n",
    "x=keras.layers.MaxPooling2D(pool_size=2,padding='valid')(x)\n",
    "\n",
    "x=keras.layers.Conv2D(96,2,padding='same')(x)\n",
    "x=keras.layers.BatchNormalization()(x)\n",
    "x=keras.layers.Activation(keras.activations.relu)(x)\n",
    "x=keras.layers.MaxPooling2D(pool_size=2,padding='valid')(x)\n",
    "\n",
    "x=keras.layers.Conv2D(128,2,padding='same')(x)\n",
    "x=keras.layers.BatchNormalization()(x)\n",
    "x=keras.layers.Activation(keras.activations.relu)(x)\n",
    "mfcc_output=keras.layers.GlobalMaxPooling2D()(x)\n",
    "\n",
    "mfcc_model=keras.Model(mfcc_input, mfcc_output, name=\"mfccModel\")"
   ]
  },
  {
   "cell_type": "code",
   "execution_count": 42,
   "id": "184d583f",
   "metadata": {},
   "outputs": [
    {
     "name": "stdout",
     "output_type": "stream",
     "text": [
      "Model: \"mfccModel\"\n",
      "_________________________________________________________________\n",
      " Layer (type)                Output Shape              Param #   \n",
      "=================================================================\n",
      " mfccInput (InputLayer)      [(None, 20, 259, 1)]      0         \n",
      "                                                                 \n",
      " conv2d (Conv2D)             (None, 20, 87, 32)        832       \n",
      "                                                                 \n",
      " batch_normalization (BatchN  (None, 20, 87, 32)       128       \n",
      " ormalization)                                                   \n",
      "                                                                 \n",
      " activation (Activation)     (None, 20, 87, 32)        0         \n",
      "                                                                 \n",
      " max_pooling2d (MaxPooling2D  (None, 10, 43, 32)       0         \n",
      " )                                                               \n",
      "                                                                 \n",
      " conv2d_1 (Conv2D)           (None, 10, 22, 64)        18496     \n",
      "                                                                 \n",
      " batch_normalization_1 (Batc  (None, 10, 22, 64)       256       \n",
      " hNormalization)                                                 \n",
      "                                                                 \n",
      " activation_1 (Activation)   (None, 10, 22, 64)        0         \n",
      "                                                                 \n",
      " max_pooling2d_1 (MaxPooling  (None, 5, 11, 64)        0         \n",
      " 2D)                                                             \n",
      "                                                                 \n",
      " conv2d_2 (Conv2D)           (None, 5, 11, 96)         24672     \n",
      "                                                                 \n",
      " batch_normalization_2 (Batc  (None, 5, 11, 96)        384       \n",
      " hNormalization)                                                 \n",
      "                                                                 \n",
      " activation_2 (Activation)   (None, 5, 11, 96)         0         \n",
      "                                                                 \n",
      " max_pooling2d_2 (MaxPooling  (None, 2, 5, 96)         0         \n",
      " 2D)                                                             \n",
      "                                                                 \n",
      " conv2d_3 (Conv2D)           (None, 2, 5, 128)         49280     \n",
      "                                                                 \n",
      " batch_normalization_3 (Batc  (None, 2, 5, 128)        512       \n",
      " hNormalization)                                                 \n",
      "                                                                 \n",
      " activation_3 (Activation)   (None, 2, 5, 128)         0         \n",
      "                                                                 \n",
      " global_max_pooling2d (Globa  (None, 128)              0         \n",
      " lMaxPooling2D)                                                  \n",
      "                                                                 \n",
      "=================================================================\n",
      "Total params: 94,560\n",
      "Trainable params: 93,920\n",
      "Non-trainable params: 640\n",
      "_________________________________________________________________\n"
     ]
    }
   ],
   "source": [
    "mfcc_model.summary()"
   ]
  },
  {
   "cell_type": "code",
   "execution_count": 43,
   "id": "a0f982a3",
   "metadata": {},
   "outputs": [],
   "source": [
    "croma_input=keras.layers.Input(shape=(12,259,1),name=\"cromaInput\")\n",
    "x=keras.layers.Conv2D(32,5,strides=(1,3),padding='same')(croma_input)\n",
    "x=keras.layers.BatchNormalization()(x)\n",
    "x=keras.layers.Activation(keras.activations.relu)(x)\n",
    "x=keras.layers.MaxPooling2D(pool_size=2,padding='valid')(x)\n",
    "\n",
    "x=keras.layers.Conv2D(64,3,strides=(1,2),padding='same')(x)\n",
    "x=keras.layers.BatchNormalization()(x)\n",
    "x=keras.layers.Activation(keras.activations.relu)(x)\n",
    "x=keras.layers.MaxPooling2D(pool_size=2,padding='valid')(x)\n",
    "\n",
    "x=keras.layers.Conv2D(128,2,padding='same')(x)\n",
    "x=keras.layers.BatchNormalization()(x)\n",
    "x=keras.layers.Activation(keras.activations.relu)(x)\n",
    "croma_output=keras.layers.GlobalMaxPooling2D()(x)\n",
    "\n",
    "croma_model=keras.Model(croma_input, croma_output, name=\"cromaModel\")"
   ]
  },
  {
   "cell_type": "code",
   "execution_count": 44,
   "id": "4e2dac61",
   "metadata": {},
   "outputs": [
    {
     "name": "stdout",
     "output_type": "stream",
     "text": [
      "Model: \"cromaModel\"\n",
      "_________________________________________________________________\n",
      " Layer (type)                Output Shape              Param #   \n",
      "=================================================================\n",
      " cromaInput (InputLayer)     [(None, 12, 259, 1)]      0         \n",
      "                                                                 \n",
      " conv2d_4 (Conv2D)           (None, 12, 87, 32)        832       \n",
      "                                                                 \n",
      " batch_normalization_4 (Batc  (None, 12, 87, 32)       128       \n",
      " hNormalization)                                                 \n",
      "                                                                 \n",
      " activation_4 (Activation)   (None, 12, 87, 32)        0         \n",
      "                                                                 \n",
      " max_pooling2d_3 (MaxPooling  (None, 6, 43, 32)        0         \n",
      " 2D)                                                             \n",
      "                                                                 \n",
      " conv2d_5 (Conv2D)           (None, 6, 22, 64)         18496     \n",
      "                                                                 \n",
      " batch_normalization_5 (Batc  (None, 6, 22, 64)        256       \n",
      " hNormalization)                                                 \n",
      "                                                                 \n",
      " activation_5 (Activation)   (None, 6, 22, 64)         0         \n",
      "                                                                 \n",
      " max_pooling2d_4 (MaxPooling  (None, 3, 11, 64)        0         \n",
      " 2D)                                                             \n",
      "                                                                 \n",
      " conv2d_6 (Conv2D)           (None, 3, 11, 128)        32896     \n",
      "                                                                 \n",
      " batch_normalization_6 (Batc  (None, 3, 11, 128)       512       \n",
      " hNormalization)                                                 \n",
      "                                                                 \n",
      " activation_6 (Activation)   (None, 3, 11, 128)        0         \n",
      "                                                                 \n",
      " global_max_pooling2d_1 (Glo  (None, 128)              0         \n",
      " balMaxPooling2D)                                                \n",
      "                                                                 \n",
      "=================================================================\n",
      "Total params: 53,120\n",
      "Trainable params: 52,672\n",
      "Non-trainable params: 448\n",
      "_________________________________________________________________\n"
     ]
    }
   ],
   "source": [
    "croma_model.summary()"
   ]
  },
  {
   "cell_type": "code",
   "execution_count": 45,
   "id": "bfbc4599",
   "metadata": {},
   "outputs": [],
   "source": [
    "mSpec_input=keras.layers.Input(shape=(128,259,1),name=\"mSpecInput\")\n",
    "x=keras.layers.Conv2D(32,5,strides=(2,3),padding='same')(mSpec_input)\n",
    "x=keras.layers.BatchNormalization()(x)\n",
    "x=keras.layers.Activation(keras.activations.relu)(x)\n",
    "x=keras.layers.MaxPooling2D(pool_size=2,padding='valid')(x)\n",
    "\n",
    "x=keras.layers.Conv2D(64,3,strides=(2,2),padding='same')(x)\n",
    "x=keras.layers.BatchNormalization()(x)\n",
    "x=keras.layers.Activation(keras.activations.relu)(x)\n",
    "x=keras.layers.MaxPooling2D(pool_size=2,padding='valid')(x)\n",
    "\n",
    "x=keras.layers.Conv2D(96,2,padding='same')(x)\n",
    "x=keras.layers.BatchNormalization()(x)\n",
    "x=keras.layers.Activation(keras.activations.relu)(x)\n",
    "x=keras.layers.MaxPooling2D(pool_size=2,padding='valid')(x)\n",
    "\n",
    "x=keras.layers.Conv2D(128,2,padding='same')(x)\n",
    "x=keras.layers.BatchNormalization()(x)\n",
    "x=keras.layers.Activation(keras.activations.relu)(x)\n",
    "mSpec_output=keras.layers.GlobalMaxPooling2D()(x)\n",
    "\n",
    "mSpec_model=keras.Model(mSpec_input, mSpec_output, name=\"mSpecModel\")"
   ]
  },
  {
   "cell_type": "code",
   "execution_count": 46,
   "id": "57d59538",
   "metadata": {},
   "outputs": [
    {
     "name": "stdout",
     "output_type": "stream",
     "text": [
      "Model: \"mSpecModel\"\n",
      "_________________________________________________________________\n",
      " Layer (type)                Output Shape              Param #   \n",
      "=================================================================\n",
      " mSpecInput (InputLayer)     [(None, 128, 259, 1)]     0         \n",
      "                                                                 \n",
      " conv2d_7 (Conv2D)           (None, 64, 87, 32)        832       \n",
      "                                                                 \n",
      " batch_normalization_7 (Batc  (None, 64, 87, 32)       128       \n",
      " hNormalization)                                                 \n",
      "                                                                 \n",
      " activation_7 (Activation)   (None, 64, 87, 32)        0         \n",
      "                                                                 \n",
      " max_pooling2d_5 (MaxPooling  (None, 32, 43, 32)       0         \n",
      " 2D)                                                             \n",
      "                                                                 \n",
      " conv2d_8 (Conv2D)           (None, 16, 22, 64)        18496     \n",
      "                                                                 \n",
      " batch_normalization_8 (Batc  (None, 16, 22, 64)       256       \n",
      " hNormalization)                                                 \n",
      "                                                                 \n",
      " activation_8 (Activation)   (None, 16, 22, 64)        0         \n",
      "                                                                 \n",
      " max_pooling2d_6 (MaxPooling  (None, 8, 11, 64)        0         \n",
      " 2D)                                                             \n",
      "                                                                 \n",
      " conv2d_9 (Conv2D)           (None, 8, 11, 96)         24672     \n",
      "                                                                 \n",
      " batch_normalization_9 (Batc  (None, 8, 11, 96)        384       \n",
      " hNormalization)                                                 \n",
      "                                                                 \n",
      " activation_9 (Activation)   (None, 8, 11, 96)         0         \n",
      "                                                                 \n",
      " max_pooling2d_7 (MaxPooling  (None, 4, 5, 96)         0         \n",
      " 2D)                                                             \n",
      "                                                                 \n",
      " conv2d_10 (Conv2D)          (None, 4, 5, 128)         49280     \n",
      "                                                                 \n",
      " batch_normalization_10 (Bat  (None, 4, 5, 128)        512       \n",
      " chNormalization)                                                \n",
      "                                                                 \n",
      " activation_10 (Activation)  (None, 4, 5, 128)         0         \n",
      "                                                                 \n",
      " global_max_pooling2d_2 (Glo  (None, 128)              0         \n",
      " balMaxPooling2D)                                                \n",
      "                                                                 \n",
      "=================================================================\n",
      "Total params: 94,560\n",
      "Trainable params: 93,920\n",
      "Non-trainable params: 640\n",
      "_________________________________________________________________\n"
     ]
    }
   ],
   "source": [
    "mSpec_model.summary()"
   ]
  },
  {
   "cell_type": "code",
   "execution_count": 47,
   "id": "38842c12",
   "metadata": {},
   "outputs": [],
   "source": [
    "input_mfcc=keras.layers.Input(shape=(20,259,1),name=\"mfcc\")\n",
    "mfcc=mfcc_model(input_mfcc)\n",
    "\n",
    "input_croma=keras.layers.Input(shape=(12,259,1),name=\"croma\")\n",
    "croma=croma_model(input_croma)\n",
    "\n",
    "input_mSpec=keras.layers.Input(shape=(128,259,1),name=\"mspec\")\n",
    "mSpec=mSpec_model(input_mSpec)\n",
    "\n",
    "\n",
    "concat=keras.layers.concatenate([mfcc,croma,mSpec])\n",
    "hidden=keras.layers.Dropout(0.2)(concat)\n",
    "hidden=keras.layers.Dense(50,activation='relu')(concat)\n",
    "hidden=keras.layers.Dropout(0.3)(hidden)\n",
    "hidden=keras.layers.Dense(25,activation='relu')(hidden)\n",
    "hidden=keras.layers.Dropout(0.3)(hidden)\n",
    "output=keras.layers.Dense(8,activation='softmax')(hidden)\n",
    "\n",
    "net=keras.Model([input_mfcc,input_croma,input_mSpec], output, name=\"Net\")"
   ]
  },
  {
   "cell_type": "code",
   "execution_count": 48,
   "id": "afbbffd0",
   "metadata": {},
   "outputs": [
    {
     "name": "stdout",
     "output_type": "stream",
     "text": [
      "Model: \"Net\"\n",
      "__________________________________________________________________________________________________\n",
      " Layer (type)                   Output Shape         Param #     Connected to                     \n",
      "==================================================================================================\n",
      " mfcc (InputLayer)              [(None, 20, 259, 1)  0           []                               \n",
      "                                ]                                                                 \n",
      "                                                                                                  \n",
      " croma (InputLayer)             [(None, 12, 259, 1)  0           []                               \n",
      "                                ]                                                                 \n",
      "                                                                                                  \n",
      " mspec (InputLayer)             [(None, 128, 259, 1  0           []                               \n",
      "                                )]                                                                \n",
      "                                                                                                  \n",
      " mfccModel (Functional)         (None, 128)          94560       ['mfcc[0][0]']                   \n",
      "                                                                                                  \n",
      " cromaModel (Functional)        (None, 128)          53120       ['croma[0][0]']                  \n",
      "                                                                                                  \n",
      " mSpecModel (Functional)        (None, 128)          94560       ['mspec[0][0]']                  \n",
      "                                                                                                  \n",
      " concatenate (Concatenate)      (None, 384)          0           ['mfccModel[0][0]',              \n",
      "                                                                  'cromaModel[0][0]',             \n",
      "                                                                  'mSpecModel[0][0]']             \n",
      "                                                                                                  \n",
      " dense (Dense)                  (None, 50)           19250       ['concatenate[0][0]']            \n",
      "                                                                                                  \n",
      " dropout_1 (Dropout)            (None, 50)           0           ['dense[0][0]']                  \n",
      "                                                                                                  \n",
      " dense_1 (Dense)                (None, 25)           1275        ['dropout_1[0][0]']              \n",
      "                                                                                                  \n",
      " dropout_2 (Dropout)            (None, 25)           0           ['dense_1[0][0]']                \n",
      "                                                                                                  \n",
      " dense_2 (Dense)                (None, 8)            208         ['dropout_2[0][0]']              \n",
      "                                                                                                  \n",
      "==================================================================================================\n",
      "Total params: 262,973\n",
      "Trainable params: 261,245\n",
      "Non-trainable params: 1,728\n",
      "__________________________________________________________________________________________________\n"
     ]
    }
   ],
   "source": [
    "net.summary()"
   ]
  },
  {
   "cell_type": "code",
   "execution_count": 49,
   "id": "ac49ec7a",
   "metadata": {},
   "outputs": [
    {
     "data": {
      "image/png": "[encoded data removed]",
      "text/plain": [
       "<IPython.core.display.Image object>"
      ]
     },
     "execution_count": 49,
     "metadata": {},
     "output_type": "execute_result"
    }
   ],
   "source": [
    "keras.utils.plot_model(net, \"net.png\", show_shapes=True)"
   ]
  },
  {
   "cell_type": "code",
   "execution_count": 50,
   "id": "42eccece",
   "metadata": {},
   "outputs": [],
   "source": [
    "from keras import backend as K\n",
    "net.compile(loss='sparse_categorical_crossentropy', optimizer='nadam', metrics=['accuracy'])\n",
    "K.set_value(net.optimizer.learning_rate, 0.001)"
   ]
  },
  {
   "cell_type": "code",
   "execution_count": 51,
   "id": "16d6bfb7",
   "metadata": {},
   "outputs": [
    {
     "name": "stdout",
     "output_type": "stream",
     "text": [
      "Epoch 1/50\n",
      "162/162 [==============================] - 59s 311ms/step - loss: 0.7453 - accuracy: 0.7848 - val_loss: 0.9144 - val_accuracy: 0.7455 - lr: 0.0010\n",
      "Epoch 2/50\n",
      "162/162 [==============================] - 50s 311ms/step - loss: 0.5024 - accuracy: 0.8336 - val_loss: 0.4945 - val_accuracy: 0.8417 - lr: 0.0010\n",
      "Epoch 3/50\n",
      "162/162 [==============================] - 55s 343ms/step - loss: 0.4407 - accuracy: 0.8454 - val_loss: 0.5694 - val_accuracy: 0.8307 - lr: 0.0010\n",
      "Epoch 4/50\n",
      "162/162 [==============================] - 51s 317ms/step - loss: 0.4143 - accuracy: 0.8540 - val_loss: 0.3539 - val_accuracy: 0.8667 - lr: 0.0010\n",
      "Epoch 5/50\n",
      "162/162 [==============================] - 52s 323ms/step - loss: 0.3697 - accuracy: 0.8631 - val_loss: 0.5763 - val_accuracy: 0.7948 - lr: 0.0010\n",
      "Epoch 6/50\n",
      "162/162 [==============================] - 51s 317ms/step - loss: 0.3536 - accuracy: 0.8672 - val_loss: 0.3828 - val_accuracy: 0.8614 - lr: 0.0010\n",
      "Epoch 7/50\n",
      "162/162 [==============================] - 51s 317ms/step - loss: 0.3408 - accuracy: 0.8691 - val_loss: 0.3858 - val_accuracy: 0.8510 - lr: 0.0010\n",
      "Epoch 8/50\n",
      "162/162 [==============================] - 52s 318ms/step - loss: 0.2967 - accuracy: 0.8879 - val_loss: 0.2934 - val_accuracy: 0.8852 - lr: 1.0000e-04\n",
      "Epoch 9/50\n",
      "162/162 [==============================] - 52s 321ms/step - loss: 0.2698 - accuracy: 0.8892 - val_loss: 0.2647 - val_accuracy: 0.8916 - lr: 1.0000e-04\n",
      "Epoch 10/50\n",
      "162/162 [==============================] - 54s 332ms/step - loss: 0.2549 - accuracy: 0.8972 - val_loss: 0.2564 - val_accuracy: 0.9020 - lr: 1.0000e-04\n",
      "Epoch 11/50\n",
      "162/162 [==============================] - 52s 319ms/step - loss: 0.2565 - accuracy: 0.8966 - val_loss: 0.2964 - val_accuracy: 0.8899 - lr: 1.0000e-04\n",
      "Epoch 12/50\n",
      "162/162 [==============================] - 52s 319ms/step - loss: 0.2479 - accuracy: 0.9037 - val_loss: 0.2579 - val_accuracy: 0.9084 - lr: 1.0000e-04\n",
      "Epoch 13/50\n",
      "162/162 [==============================] - 52s 318ms/step - loss: 0.2385 - accuracy: 0.9055 - val_loss: 0.2476 - val_accuracy: 0.9032 - lr: 1.0000e-04\n",
      "Epoch 14/50\n",
      "162/162 [==============================] - 53s 325ms/step - loss: 0.2365 - accuracy: 0.9076 - val_loss: 0.2415 - val_accuracy: 0.9101 - lr: 1.0000e-04\n",
      "Epoch 15/50\n",
      "162/162 [==============================] - 53s 329ms/step - loss: 0.2280 - accuracy: 0.9084 - val_loss: 0.3044 - val_accuracy: 0.8939 - lr: 1.0000e-04\n",
      "Epoch 16/50\n",
      "162/162 [==============================] - 52s 320ms/step - loss: 0.2278 - accuracy: 0.9117 - val_loss: 0.2393 - val_accuracy: 0.9101 - lr: 1.0000e-04\n",
      "Epoch 17/50\n",
      "162/162 [==============================] - 52s 321ms/step - loss: 0.2194 - accuracy: 0.9120 - val_loss: 0.2650 - val_accuracy: 0.9084 - lr: 1.0000e-04\n",
      "Epoch 18/50\n",
      "162/162 [==============================] - 53s 328ms/step - loss: 0.2177 - accuracy: 0.9165 - val_loss: 0.2418 - val_accuracy: 0.9183 - lr: 1.0000e-04\n",
      "Epoch 19/50\n",
      "162/162 [==============================] - 52s 320ms/step - loss: 0.2109 - accuracy: 0.9153 - val_loss: 0.2427 - val_accuracy: 0.9125 - lr: 1.0000e-04\n",
      "Epoch 20/50\n",
      "162/162 [==============================] - 52s 321ms/step - loss: 0.2044 - accuracy: 0.9176 - val_loss: 0.2369 - val_accuracy: 0.9171 - lr: 1.0000e-05\n",
      "Epoch 21/50\n",
      "162/162 [==============================] - 52s 322ms/step - loss: 0.2013 - accuracy: 0.9217 - val_loss: 0.2278 - val_accuracy: 0.9223 - lr: 1.0000e-05\n",
      "Epoch 22/50\n",
      "162/162 [==============================] - 53s 328ms/step - loss: 0.1961 - accuracy: 0.9207 - val_loss: 0.2291 - val_accuracy: 0.9177 - lr: 1.0000e-05\n",
      "Epoch 23/50\n",
      "162/162 [==============================] - 52s 323ms/step - loss: 0.1958 - accuracy: 0.9215 - val_loss: 0.2236 - val_accuracy: 0.9171 - lr: 1.0000e-05\n",
      "Epoch 24/50\n",
      "162/162 [==============================] - 52s 318ms/step - loss: 0.1933 - accuracy: 0.9271 - val_loss: 0.2269 - val_accuracy: 0.9200 - lr: 1.0000e-05\n",
      "Epoch 25/50\n",
      "162/162 [==============================] - 52s 320ms/step - loss: 0.1994 - accuracy: 0.9221 - val_loss: 0.2288 - val_accuracy: 0.9194 - lr: 1.0000e-05\n",
      "Epoch 26/50\n",
      "162/162 [==============================] - 53s 330ms/step - loss: 0.1926 - accuracy: 0.9200 - val_loss: 0.2266 - val_accuracy: 0.9206 - lr: 1.0000e-05\n",
      "Epoch 27/50\n",
      "162/162 [==============================] - 52s 320ms/step - loss: 0.1976 - accuracy: 0.9238 - val_loss: 0.2245 - val_accuracy: 0.9206 - lr: 1.0000e-05\n",
      "Epoch 28/50\n",
      "162/162 [==============================] - 52s 321ms/step - loss: 0.1926 - accuracy: 0.9238 - val_loss: 0.2266 - val_accuracy: 0.9229 - lr: 1.0000e-05\n"
     ]
    }
   ],
   "source": [
    "history=net.fit(\n",
    "    {\"mfcc\":mfcc_train,\"croma\":cstft_train,\"mspec\":mSpec_train},\n",
    "    ytrain,\n",
    "    validation_data=({\"mfcc\":mfcc_val,\"croma\":cstft_val,\"mspec\":mSpec_val},yval),\n",
    "    epochs=50,verbose=1,\n",
    "    callbacks=my_callbacks\n",
    ")"
   ]
  },
  {
   "cell_type": "code",
   "execution_count": 52,
   "id": "486aa3b2",
   "metadata": {},
   "outputs": [
    {
     "data": {
      "image/png": "[encoded data removed]",
      "text/plain": [
       "<Figure size 640x480 with 1 Axes>"
      ]
     },
     "metadata": {},
     "output_type": "display_data"
    }
   ],
   "source": [
    "pd.DataFrame(history.history).plot()\n",
    "plt.grid(True)\n",
    "plt.gca().set_ylim(-0.1,1.1)\n",
    "plt.show()"
   ]
  },
  {
   "cell_type": "code",
   "execution_count": 53,
   "id": "dcbaeb13",
   "metadata": {},
   "outputs": [
    {
     "name": "stdout",
     "output_type": "stream",
     "text": [
      "54/54 [==============================] - 4s 73ms/step - loss: 0.2266 - accuracy: 0.9229\n"
     ]
    },
    {
     "data": {
      "text/plain": [
       "[0.2265675812959671, 0.922898530960083]"
      ]
     },
     "execution_count": 53,
     "metadata": {},
     "output_type": "execute_result"
    }
   ],
   "source": [
    "net.evaluate({\"mfcc\":mfcc_val,\"croma\":cstft_val,\"mspec\":mSpec_val},yval)"
   ]
  },
  {
   "cell_type": "code",
   "execution_count": 54,
   "id": "684a79e0",
   "metadata": {},
   "outputs": [
    {
     "name": "stdout",
     "output_type": "stream",
     "text": [
      "1/1 [==============================] - 0s 308ms/step\n",
      "The predicted disease for the given audio file is: Asthma\n",
      "The associated symptom is: Wheezes\n"
     ]
    }
   ],
   "source": [
    "import numpy as np\n",
    "import librosa\n",
    "\n",
    "# Expected input shape\n",
    "EXPECTED_SHAPE = (20, 259, 1)\n",
    "\n",
    "# Function to extract features from an audio file\n",
    "def get_features(audio_path, expected_shape):\n",
    "    y, sr = librosa.load(audio_path, sr=None)\n",
    "    \n",
    "    # Extract features\n",
    "    mfcc = librosa.feature.mfcc(y=y, sr=sr, n_mfcc=expected_shape[0])\n",
    "    chroma_stft = librosa.feature.chroma_stft(y=y, sr=sr)\n",
    "    mel_spectrogram = librosa.feature.melspectrogram(y=y, sr=sr)\n",
    "    \n",
    "    # Ensure that all features have the same length\n",
    "    min_length = min(mfcc.shape[1], chroma_stft.shape[1], mel_spectrogram.shape[1])\n",
    "    mfcc = mfcc[:, :min_length]\n",
    "    chroma_stft = chroma_stft[:, :min_length]\n",
    "    mel_spectrogram = mel_spectrogram[:, :min_length]\n",
    "    \n",
    "    # Pad or truncate features to match the expected shape\n",
    "    def pad_or_truncate(feature, expected_length):\n",
    "        if feature.shape[1] < expected_length:\n",
    "            padding = expected_length - feature.shape[1]\n",
    "            feature = np.pad(feature, ((0, 0), (0, padding)), mode='constant')\n",
    "        else:\n",
    "            feature = feature[:, :expected_length]\n",
    "        return feature\n",
    "    \n",
    "    mfcc = pad_or_truncate(mfcc, expected_shape[1])\n",
    "    chroma_stft = pad_or_truncate(chroma_stft, expected_shape[1])\n",
    "    mel_spectrogram = pad_or_truncate(mel_spectrogram, expected_shape[1])\n",
    "    \n",
    "    # Reshape features to match the input shape expected by the model\n",
    "    mfcc = mfcc[np.newaxis, ..., np.newaxis]\n",
    "    chroma_stft = chroma_stft[np.newaxis, ..., np.newaxis]\n",
    "    mel_spectrogram = mel_spectrogram[np.newaxis, ..., np.newaxis]\n",
    "    \n",
    "    return mfcc, chroma_stft, mel_spectrogram\n",
    "\n",
    "# Function to predict the disease from an audio file\n",
    "def predict_disease(audio_path, model, expected_shape):\n",
    "    # Extract features\n",
    "    mfcc, chroma_stft, mel_spectrogram = get_features(audio_path, expected_shape)\n",
    "    \n",
    "    # Make a prediction\n",
    "    prediction = model.predict({\"mfcc\": mfcc, \"croma\": chroma_stft, \"mspec\": mel_spectrogram})\n",
    "    \n",
    "    # Get the predicted class\n",
    "    predicted_class = np.argmax(prediction, axis=1)[0]\n",
    "    \n",
    "    return predicted_class\n",
    "\n",
    "# Dictionary to map class indices to disease names\n",
    "class_names = {\n",
    "    0: \"COPD\",\n",
    "    1: \"Healthy\",\n",
    "    2: \"Pneumonia\",\n",
    "    3: \"URTI\",\n",
    "    4: \"Bronchiolitis\",\n",
    "    5: \"Bronchiectasis\",\n",
    "    6: \"LRTI\",\n",
    "    7: \"Asthma\"\n",
    "}\n",
    "\n",
    "\n",
    "disease_symptoms = {\n",
    "    \"Asthma\": \"Wheezes\",\n",
    "    \"COPD\": \"Wheezes\",\n",
    "    \"Pneumonia\": \"Crackles\",\n",
    "    \"Bronchiolitis\": \"Crackles\",\n",
    "    \"Bronchiectasis\": \"Crackles\",\n",
    "    \"LRTI\": \"Crackles\",\n",
    "    \"Healthy\": \"Normal\",\n",
    "    \"URTI\": \"Normal\"  # Assuming URTI is not associated with specific sounds\n",
    "}\n",
    "\n",
    "\n",
    "audio_path = r'C:\\Users\\CVA\\Desktop\\RespiraSense\\Dataset\\data\\test\\126_1b1_Al_sc_Meditron.wav'\n",
    "predicted_class = predict_disease(audio_path, net, EXPECTED_SHAPE)\n",
    "predicted_disease = class_names[predicted_class]\n",
    "\n",
    "\n",
    "symptom = disease_symptoms.get(predicted_disease, \"Unknown\")\n",
    "\n",
    "print(f\"The predicted disease for the given audio file is: {predicted_disease}\")\n",
    "print(f\"The associated symptom is: {symptom}\")\n"
   ]
  },
  {
   "cell_type": "markdown",
   "id": "086ac5b9",
   "metadata": {},
   "source": [
    "# LSTM + CNN HYBRID ALGORITHM"
   ]
  },
  {
   "cell_type": "markdown",
   "id": "73878f9c",
   "metadata": {},
   "source": [
    "#### I replaces the CNN architecture with a hybrid CNN-LSTM model for feature extraction and classification. We'll use LSTM layers to capture temporal dependencies in the extracted features."
   ]
  },
  {
   "cell_type": "code",
   "execution_count": 63,
   "id": "35cbc235",
   "metadata": {
    "scrolled": true
   },
   "outputs": [],
   "source": [
    "import numpy as np\n",
    "import pandas as pd\n",
    "import librosa as lb\n",
    "from sklearn.preprocessing import LabelEncoder\n",
    "from tensorflow.keras import layers, models, callbacks, optimizers\n",
    "from keras.models import Model\n",
    "from keras.layers import Input, LSTM, Dense, Dropout, concatenate\n",
    "from keras.optimizers import Nadam\n",
    "from keras.callbacks import EarlyStopping, ModelCheckpoint\n",
    "\n",
    "# Encoding class labels\n",
    "le = LabelEncoder()\n",
    "ytrain = le.fit_transform(ytrain)\n",
    "yval = le.transform(yval)\n",
    "\n",
    "# Load and preprocess the data\n",
    "def getFeatures(path):\n",
    "    y, sr = lb.load(path)\n",
    "    mfcc = lb.feature.mfcc(y=y, sr=sr, n_mfcc=20)\n",
    "    cstft = lb.feature.chroma_stft(y=y, sr=sr)\n",
    "    mSpec = lb.feature.melspectrogram(y=y, sr=sr)\n",
    "    return mfcc, cstft, mSpec\n",
    "\n",
    "root = r'C:\\Users\\CVA\\Desktop\\RespiraSense\\processed_audio_files'\n",
    "mfcc_train, cstft_train, mSpec_train = [], [], []\n",
    "mfcc_val, cstft_val, mSpec_val = [], [], []\n",
    "\n",
    "# Assuming 'train' and 'val' are DataFrames with a column 'filename'\n",
    "for idx, row in train.iterrows():\n",
    "    path = root + '\\\\' + row['filename']\n",
    "    a, b, c = getFeatures(path)\n",
    "    mfcc_train.append(a)\n",
    "    cstft_train.append(b)\n",
    "    mSpec_train.append(c)\n",
    "\n",
    "for idx, row in val.iterrows():\n",
    "    path = root + '\\\\' + row['filename']\n",
    "    a, b, c = getFeatures(path)\n",
    "    mfcc_val.append(a)\n",
    "    cstft_val.append(b)\n",
    "    mSpec_val.append(c)\n",
    "\n",
    "# Convert lists to numpy arrays\n",
    "mfcc_train = np.array(mfcc_train)\n",
    "cstft_train = np.array(cstft_train)\n",
    "mSpec_train = np.array(mSpec_train)\n",
    "mfcc_val = np.array(mfcc_val)\n",
    "cstft_val = np.array(cstft_val)\n",
    "mSpec_val = np.array(mSpec_val)\n",
    "\n",
    "# Define LSTM-based models\n",
    "input_mfcc = Input(shape=(None, 20), name=\"mfcc\")\n",
    "mfcc = LSTM(128, return_sequences=True)(input_mfcc)\n",
    "mfcc = Dropout(0.3)(mfcc)\n",
    "mfcc = LSTM(64)(mfcc)\n",
    "mfcc = Dropout(0.3)(mfcc)\n",
    "\n",
    "input_croma = Input(shape=(None, 12), name=\"croma\")\n",
    "croma = LSTM(128, return_sequences=True)(input_croma)\n",
    "croma = Dropout(0.3)(croma)\n",
    "croma = LSTM(64)(croma)\n",
    "croma = Dropout(0.3)(croma)\n",
    "\n",
    "input_mSpec = Input(shape=(None, 128), name=\"mspec\")\n",
    "mSpec = LSTM(128, return_sequences=True)(input_mSpec)\n",
    "mSpec = Dropout(0.3)(mSpec)\n",
    "mSpec = LSTM(64)(mSpec)\n",
    "mSpec = Dropout(0.3)(mSpec)\n",
    "\n",
    "# Concatenate all features\n",
    "concat = concatenate([mfcc, croma, mSpec])\n",
    "hidden = Dropout(0.3)(concat)\n",
    "hidden = Dense(50, activation='relu')(hidden)\n",
    "hidden = Dropout(0.3)(hidden)\n",
    "hidden = Dense(25, activation='relu')(hidden)\n",
    "hidden = Dropout(0.3)(hidden)\n",
    "output = Dense(8, activation='softmax')(hidden)\n",
    "\n",
    "# Define the model\n",
    "net = Model(inputs=[input_mfcc, input_croma, input_mSpec], outputs=output, name=\"Net\")\n",
    "\n",
    "# Compile the model\n",
    "net.compile(loss='sparse_categorical_crossentropy', optimizer=Nadam(learning_rate=0.001), metrics=['accuracy'])\n",
    "\n",
    "# Define callbacks\n",
    "early_stopping = EarlyStopping(monitor='val_loss', patience=10, restore_best_weights=True)\n",
    "model_checkpoint = ModelCheckpoint('best_model.h5', save_best_only=True, monitor='val_loss')\n",
    "\n",
    "# Train the model\n",
    "history = net.fit(\n",
    "    {\"mfcc\": mfcc_train, \"croma\": cstft_train, \"mspec\": mSpec_train},\n",
    "    ytrain,\n",
    "    validation_data=({\"mfcc\": mfcc_val, \"croma\": cstft_val, \"mspec\": mSpec_val}, yval),\n",
    "    epochs=50, verbose=1,\n",
    "    callbacks=[early_stopping, model_checkpoint]\n",
    ")\n"
   ]
  }
 ],
 "metadata": {
  "kernelspec": {
   "display_name": "Python 3 (ipykernel)",
   "language": "python",
   "name": "python3"
  },
  "language_info": {
   "codemirror_mode": {
    "name": "ipython",
    "version": 3
   },
   "file_extension": ".py",
   "mimetype": "text/x-python",
   "name": "python",
   "nbconvert_exporter": "python",
   "pygments_lexer": "ipython3",
   "version": "3.9.13"
  }
 },
 "nbformat": 4,
 "nbformat_minor": 5
}
